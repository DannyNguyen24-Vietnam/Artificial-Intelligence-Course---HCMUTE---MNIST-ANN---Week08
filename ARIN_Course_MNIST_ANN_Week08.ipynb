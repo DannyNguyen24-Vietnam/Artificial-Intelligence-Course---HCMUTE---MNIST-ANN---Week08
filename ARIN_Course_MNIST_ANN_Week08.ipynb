{
  "nbformat": 4,
  "nbformat_minor": 0,
  "metadata": {
    "colab": {
      "provenance": [],
      "authorship_tag": "ABX9TyOtKG73Pd0O4Nkx8irEP3Bk"
    },
    "kernelspec": {
      "name": "python3",
      "display_name": "Python 3"
    },
    "language_info": {
      "name": "python"
    }
  },
  "cells": [
    {
      "cell_type": "code",
      "source": [
        "!pip install keras"
      ],
      "metadata": {
        "colab": {
          "base_uri": "https://localhost:8080/"
        },
        "id": "VnBO-lsf1j8R",
        "outputId": "ea38a67f-9766-48a8-9aa8-fecb496ac29a"
      },
      "execution_count": 19,
      "outputs": [
        {
          "output_type": "stream",
          "name": "stdout",
          "text": [
            "Looking in indexes: https://pypi.org/simple, https://us-python.pkg.dev/colab-wheels/public/simple/\n",
            "Requirement already satisfied: keras in /usr/local/lib/python3.9/dist-packages (2.11.0)\n"
          ]
        }
      ]
    },
    {
      "cell_type": "code",
      "source": [
        "# Import libraries\n",
        "import matplotlib.pyplot as plt\n",
        "import numpy as np"
      ],
      "metadata": {
        "id": "l0_9rCyP0Q8L"
      },
      "execution_count": 1,
      "outputs": []
    },
    {
      "cell_type": "code",
      "execution_count": 2,
      "metadata": {
        "colab": {
          "base_uri": "https://localhost:8080/"
        },
        "id": "uJEe6wD_zevs",
        "outputId": "bb1cde15-53af-4c21-b514-ad6884c81028"
      },
      "outputs": [
        {
          "output_type": "stream",
          "name": "stdout",
          "text": [
            "Downloading data from https://storage.googleapis.com/tensorflow/tf-keras-datasets/mnist.npz\n",
            "11490434/11490434 [==============================] - 1s 0us/step\n"
          ]
        }
      ],
      "source": [
        "# Import data from library\n",
        "from keras.datasets import mnist\n",
        "(train_images, train_labels),(test_images, test_labels) = mnist.load_data()"
      ]
    },
    {
      "cell_type": "code",
      "source": [
        "# Data size\n",
        "train_images.shape"
      ],
      "metadata": {
        "colab": {
          "base_uri": "https://localhost:8080/"
        },
        "id": "wJN3f_cTz7Mr",
        "outputId": "5077065d-8902-41d4-f831-05f4d6b36e52"
      },
      "execution_count": 3,
      "outputs": [
        {
          "output_type": "execute_result",
          "data": {
            "text/plain": [
              "(60000, 28, 28)"
            ]
          },
          "metadata": {},
          "execution_count": 3
        }
      ]
    },
    {
      "cell_type": "code",
      "source": [
        "# Data labels - some instances\n",
        "train_labels[0:5]"
      ],
      "metadata": {
        "colab": {
          "base_uri": "https://localhost:8080/"
        },
        "id": "5mQLjNp30Gfs",
        "outputId": "1aca631a-4712-43a3-def9-3e28e1dfd0b6"
      },
      "execution_count": 4,
      "outputs": [
        {
          "output_type": "execute_result",
          "data": {
            "text/plain": [
              "array([5, 0, 4, 1, 9], dtype=uint8)"
            ]
          },
          "metadata": {},
          "execution_count": 4
        }
      ]
    },
    {
      "cell_type": "code",
      "source": [
        "# Uniqueness of Labels\n",
        "np.unique(train_labels)"
      ],
      "metadata": {
        "colab": {
          "base_uri": "https://localhost:8080/"
        },
        "id": "bvfK09JF0_pt",
        "outputId": "89709ddd-e0a5-4323-cd35-d536413c2cb9"
      },
      "execution_count": 5,
      "outputs": [
        {
          "output_type": "execute_result",
          "data": {
            "text/plain": [
              "array([0, 1, 2, 3, 4, 5, 6, 7, 8, 9], dtype=uint8)"
            ]
          },
          "metadata": {},
          "execution_count": 5
        }
      ]
    },
    {
      "cell_type": "code",
      "source": [
        "# Display image\n",
        "chosen_idx = 50800\n",
        "chosen_image = train_images[chosen_idx]\n",
        "\n",
        "# Display result\n",
        "print(\"Number:\", train_labels[chosen_idx])\n",
        "plt.imshow(chosen_image, cmap='binary')\n",
        "plt.show"
      ],
      "metadata": {
        "colab": {
          "base_uri": "https://localhost:8080/",
          "height": 300
        },
        "id": "RGFYUHUA0Lwz",
        "outputId": "a1e74e5c-261d-46a5-8b71-8d001bf1fd7f"
      },
      "execution_count": 6,
      "outputs": [
        {
          "output_type": "stream",
          "name": "stdout",
          "text": [
            "Number: 5\n"
          ]
        },
        {
          "output_type": "execute_result",
          "data": {
            "text/plain": [
              "<function matplotlib.pyplot.show(close=None, block=None)>"
            ]
          },
          "metadata": {},
          "execution_count": 6
        },
        {
          "output_type": "display_data",
          "data": {
            "text/plain": [
              "<Figure size 432x288 with 1 Axes>"
            ],
            "image/png": "[encoded data removed]"
          },
          "metadata": {
            "needs_background": "light"
          }
        }
      ]
    },
    {
      "cell_type": "code",
      "source": [
        "# Display multiple images\n",
        "for img_indx in range(10):\n",
        "  plt.subplot(3, 5, img_indx+1)\n",
        "  plt.tight_layout()  # Tight display\n",
        "\n",
        "  # Image show\n",
        "  plt.imshow(train_images[img_indx], cmap='gray', interpolation='None')\n",
        "  plt.title('Number: {}'.format(train_labels[img_indx]))\n",
        "  plt.xticks([])\n",
        "  plt.yticks([])"
      ],
      "metadata": {
        "colab": {
          "base_uri": "https://localhost:8080/",
          "height": 196
        },
        "id": "c45JnXyl1Tg8",
        "outputId": "523b8d94-9256-4d57-c0ed-7a26d2f2b0bb"
      },
      "execution_count": 7,
      "outputs": [
        {
          "output_type": "display_data",
          "data": {
            "text/plain": [
              "<Figure size 432x288 with 10 Axes>"
            ],
            "image/png": "[encoded data removed]"
          },
          "metadata": {}
        }
      ]
    },
    {
      "cell_type": "code",
      "source": [
        "from keras.models import Sequential\n",
        "from keras.layers import Dense\n",
        "\n",
        "# Create sequential model\n",
        "model = Sequential()\n",
        "model.add(Dense(512, input_shape=(784,), activation='relu'))\n",
        "model.add(Dense(10, activation='softmax'))\n",
        "\n",
        "# Model Summary\n",
        "model.summary()"
      ],
      "metadata": {
        "colab": {
          "base_uri": "https://localhost:8080/"
        },
        "id": "ybwAAJlC2LA1",
        "outputId": "bbed5246-103a-4bb1-d537-00343d68900e"
      },
      "execution_count": 8,
      "outputs": [
        {
          "output_type": "stream",
          "name": "stdout",
          "text": [
            "Model: \"sequential\"\n",
            "_________________________________________________________________\n",
            " Layer (type)                Output Shape              Param #   \n",
            "=================================================================\n",
            " dense (Dense)               (None, 512)               401920    \n",
            "                                                                 \n",
            " dense_1 (Dense)             (None, 10)                5130      \n",
            "                                                                 \n",
            "=================================================================\n",
            "Total params: 407,050\n",
            "Trainable params: 407,050\n",
            "Non-trainable params: 0\n",
            "_________________________________________________________________\n"
          ]
        }
      ]
    },
    {
      "cell_type": "code",
      "source": [
        "# Process the array of pixels - The train\n",
        "train_images = train_images.reshape(60000, -1, 1)   # Reshaping\n",
        "train_images = train_images.astype('float32')/255   # Rescaling\n",
        "\n",
        "# Process the array of pixels - The test\n",
        "test_images = test_images.reshape(10000, -1, 1)   # Reshaping\n",
        "test_images = test_images.astype('float32')/255   # Rescaling"
      ],
      "metadata": {
        "id": "9KTYqd2T49zG"
      },
      "execution_count": 9,
      "outputs": []
    },
    {
      "cell_type": "code",
      "source": [
        "from keras.utils import to_categorical\n",
        "\n",
        "# One-hot encoding - train set\n",
        "one_hot_train = to_categorical(train_labels)\n",
        "\n",
        "# Print one-hot encoding\n",
        "one_hot_train.shape"
      ],
      "metadata": {
        "colab": {
          "base_uri": "https://localhost:8080/"
        },
        "id": "8U6vxjaj4Gw9",
        "outputId": "81f9400b-2519-4901-b910-6a875b23fde0"
      },
      "execution_count": 10,
      "outputs": [
        {
          "output_type": "execute_result",
          "data": {
            "text/plain": [
              "(60000, 10)"
            ]
          },
          "metadata": {},
          "execution_count": 10
        }
      ]
    },
    {
      "cell_type": "code",
      "source": [
        "one_hot_train[0, :]"
      ],
      "metadata": {
        "colab": {
          "base_uri": "https://localhost:8080/"
        },
        "id": "3xKf4mq36Buc",
        "outputId": "1d093e88-fbac-4d6d-d690-ccbf7046e22b"
      },
      "execution_count": 11,
      "outputs": [
        {
          "output_type": "execute_result",
          "data": {
            "text/plain": [
              "array([0., 0., 0., 0., 0., 1., 0., 0., 0., 0.], dtype=float32)"
            ]
          },
          "metadata": {},
          "execution_count": 11
        }
      ]
    },
    {
      "cell_type": "code",
      "source": [
        "# One-hot encoding - test set\n",
        "one_hot_test = to_categorical(test_labels)\n",
        "\n",
        "# Print one-hot encoding\n",
        "one_hot_test.shape"
      ],
      "metadata": {
        "colab": {
          "base_uri": "https://localhost:8080/"
        },
        "id": "GjJHIINE7EDl",
        "outputId": "5a841ccb-8ff9-4aaa-c40e-038fb1af4636"
      },
      "execution_count": 12,
      "outputs": [
        {
          "output_type": "execute_result",
          "data": {
            "text/plain": [
              "(10000, 10)"
            ]
          },
          "metadata": {},
          "execution_count": 12
        }
      ]
    },
    {
      "cell_type": "code",
      "source": [
        "# Compile model and train\n",
        "model.compile(optimizer='rmsprop', loss='categorical_crossentropy', metrics=['accuracy'])\n",
        "model.fit(train_images, one_hot_train, epochs=10, batch_size=128)\n",
        "\n",
        "# Test set evaluation\n",
        "test_loss, test_acc = model.evaluate(test_images, one_hot_test)\n",
        "print('Test Loss:', test_loss)\n",
        "print('Test Acc.:', test_acc)"
      ],
      "metadata": {
        "colab": {
          "base_uri": "https://localhost:8080/"
        },
        "id": "0Ijh3Ecj6fb1",
        "outputId": "d6f9d74c-2e86-41a1-ea0c-0ccffcf67ee8"
      },
      "execution_count": 13,
      "outputs": [
        {
          "output_type": "stream",
          "name": "stdout",
          "text": [
            "Epoch 1/10\n",
            "469/469 [==============================] - 4s 8ms/step - loss: 0.2640 - accuracy: 0.9247\n",
            "Epoch 2/10\n",
            "469/469 [==============================] - 4s 9ms/step - loss: 0.1064 - accuracy: 0.9686\n",
            "Epoch 3/10\n",
            "469/469 [==============================] - 4s 9ms/step - loss: 0.0699 - accuracy: 0.9791\n",
            "Epoch 4/10\n",
            "469/469 [==============================] - 5s 11ms/step - loss: 0.0508 - accuracy: 0.9849\n",
            "Epoch 5/10\n",
            "469/469 [==============================] - 4s 9ms/step - loss: 0.0374 - accuracy: 0.9891\n",
            "Epoch 6/10\n",
            "469/469 [==============================] - 4s 7ms/step - loss: 0.0287 - accuracy: 0.9909\n",
            "Epoch 7/10\n",
            "469/469 [==============================] - 3s 7ms/step - loss: 0.0219 - accuracy: 0.9940\n",
            "Epoch 8/10\n",
            "469/469 [==============================] - 4s 9ms/step - loss: 0.0166 - accuracy: 0.9954\n",
            "Epoch 9/10\n",
            "469/469 [==============================] - 4s 7ms/step - loss: 0.0125 - accuracy: 0.9966\n",
            "Epoch 10/10\n",
            "469/469 [==============================] - 3s 7ms/step - loss: 0.0092 - accuracy: 0.9976\n",
            "313/313 [==============================] - 1s 2ms/step - loss: 0.0699 - accuracy: 0.9806\n",
            "Test Loss: 0.06986826658248901\n",
            "Test Acc.: 0.9805999994277954\n"
          ]
        }
      ]
    },
    {
      "cell_type": "code",
      "source": [
        "from random import randint\n",
        "\n",
        "# Test image\n",
        "chosen_test = randint(0, 10000)\n",
        "chosen_img  = test_images[chosen_test, :, :].reshape(1, -1)\n",
        "predict_num = np.argmax(model.predict(chosen_img))\n",
        "plt.imshow(chosen_img.reshape(28, 28), cmap='binary')\n",
        "print(\"Predicted Number:\", predict_num)"
      ],
      "metadata": {
        "colab": {
          "base_uri": "https://localhost:8080/",
          "height": 300
        },
        "id": "wV21CcYk8i1p",
        "outputId": "0c5abbe9-a8b1-4aaa-9977-c6dce883cf9b"
      },
      "execution_count": 16,
      "outputs": [
        {
          "output_type": "stream",
          "name": "stdout",
          "text": [
            "1/1 [==============================] - 0s 21ms/step\n",
            "Predicted Number: 9\n"
          ]
        },
        {
          "output_type": "display_data",
          "data": {
            "text/plain": [
              "<Figure size 432x288 with 1 Axes>"
            ],
            "image/png": "[encoded data removed]"
          },
          "metadata": {
            "needs_background": "light"
          }
        }
      ]
    },
    {
      "cell_type": "code",
      "source": [
        "from keras.models import load_model\n",
        "\n",
        "# Save model\n",
        "model.save('/content/model01_mnist.h5')\n",
        "\n",
        "# Load model\n",
        "trained_model01 = load_model('model01_mnist.h5')"
      ],
      "metadata": {
        "id": "keFMKCQlC8yz"
      },
      "execution_count": 17,
      "outputs": []
    },
    {
      "cell_type": "code",
      "source": [
        "from keras.utils import load_img, img_to_array\n",
        "\n",
        "# Test my own digits\n",
        "file_path = '/content/Test_num1.png'\n",
        "target_shape = (28, 28)\n",
        "\n",
        "# Read image from file, convert to grayscale and display\n",
        "user_img = load_img(file_path, target_size=target_shape, color_mode= \"grayscale\")\n",
        "plt.imshow(user_img, cmap='gray')\n",
        "\n",
        "# Image to array\n",
        "user_img = img_to_array(user_img).astype('float32')\n",
        "user_img = user_img/255   # Normalize\n",
        "\n",
        "# Make prediction\n",
        "pred_value = np.argmax(model.predict(user_img.reshape(1,-1), verbose=False))\n",
        "print(\"Predicted number:\", pred_value)"
      ],
      "metadata": {
        "colab": {
          "base_uri": "https://localhost:8080/",
          "height": 282
        },
        "id": "4m04xq_Cxm1a",
        "outputId": "32f77628-bf48-4193-8e56-27f2c843afea"
      },
      "execution_count": 31,
      "outputs": [
        {
          "output_type": "stream",
          "name": "stdout",
          "text": [
            "Predicted number: 2\n"
          ]
        },
        {
          "output_type": "display_data",
          "data": {
            "text/plain": [
              "<Figure size 432x288 with 1 Axes>"
            ],
            "image/png": "[encoded data removed]"
          },
          "metadata": {
            "needs_background": "light"
          }
        }
      ]
    },
    {
      "cell_type": "markdown",
      "source": [
        "I suceeded in fooling my model!"
      ],
      "metadata": {
        "id": "Zx2NG7kA2bYJ"
      }
    },
    {
      "cell_type": "code",
      "source": [
        "# Test my own digits\n",
        "file_path = '/content/Test_num2.png'\n",
        "\n",
        "# Read image from file, convert to grayscale and display\n",
        "user_img = load_img(file_path, target_size=target_shape, color_mode= \"grayscale\")\n",
        "plt.imshow(user_img, cmap='gray')\n",
        "\n",
        "# Image to array\n",
        "user_img = img_to_array(user_img).astype('float32')\n",
        "user_img = user_img/255   # Normalize\n",
        "\n",
        "# Make prediction\n",
        "pred_value = np.argmax(model.predict(user_img.reshape(1,-1), verbose=False))\n",
        "print(\"Predicted number:\", pred_value)"
      ],
      "metadata": {
        "colab": {
          "base_uri": "https://localhost:8080/",
          "height": 282
        },
        "id": "K-InaqWN2URL",
        "outputId": "61a2310a-ee07-4608-9e89-a0ab9c042592"
      },
      "execution_count": 32,
      "outputs": [
        {
          "output_type": "stream",
          "name": "stdout",
          "text": [
            "Predicted number: 3\n"
          ]
        },
        {
          "output_type": "display_data",
          "data": {
            "text/plain": [
              "<Figure size 432x288 with 1 Axes>"
            ],
            "image/png": "[encoded data removed]"
          },
          "metadata": {
            "needs_background": "light"
          }
        }
      ]
    },
    {
      "cell_type": "code",
      "source": [
        "# Test my own digits\n",
        "file_path = '/content/Test_num3.png'\n",
        "\n",
        "# Read image from file, convert to grayscale and display\n",
        "user_img = load_img(file_path, target_size=target_shape, color_mode= \"grayscale\")\n",
        "plt.imshow(user_img, cmap='gray')\n",
        "\n",
        "# Image to array\n",
        "user_img = img_to_array(user_img).astype('float32')\n",
        "user_img = user_img/255   # Normalize\n",
        "\n",
        "# Make prediction\n",
        "pred_value = np.argmax(model.predict(user_img.reshape(1,-1), verbose=False))\n",
        "print(\"Predicted number:\", pred_value)"
      ],
      "metadata": {
        "colab": {
          "base_uri": "https://localhost:8080/",
          "height": 282
        },
        "id": "W8-g5kyu2eqb",
        "outputId": "7e58544c-7987-4d94-a876-7b3052a139a5"
      },
      "execution_count": 33,
      "outputs": [
        {
          "output_type": "stream",
          "name": "stdout",
          "text": [
            "Predicted number: 3\n"
          ]
        },
        {
          "output_type": "display_data",
          "data": {
            "text/plain": [
              "<Figure size 432x288 with 1 Axes>"
            ],
            "image/png": "[encoded data removed]"
          },
          "metadata": {
            "needs_background": "light"
          }
        }
      ]
    },
    {
      "cell_type": "code",
      "source": [
        "# Test my own digits\n",
        "file_path = '/content/Test_num4.png'\n",
        "\n",
        "# Read image from file, convert to grayscale and display\n",
        "user_img = load_img(file_path, target_size=target_shape, color_mode= \"grayscale\")\n",
        "plt.imshow(user_img, cmap='gray')\n",
        "\n",
        "# Image to array\n",
        "user_img = img_to_array(user_img).astype('float32')\n",
        "user_img = user_img/255   # Normalize\n",
        "\n",
        "# Make prediction\n",
        "pred_value = np.argmax(model.predict(user_img.reshape(1,-1), verbose=False))\n",
        "print(\"Predicted number:\", pred_value)"
      ],
      "metadata": {
        "colab": {
          "base_uri": "https://localhost:8080/",
          "height": 282
        },
        "id": "FT9GtQ3T3TkE",
        "outputId": "b292e780-2931-40e2-d5ae-fa024ada3878"
      },
      "execution_count": 34,
      "outputs": [
        {
          "output_type": "stream",
          "name": "stdout",
          "text": [
            "Predicted number: 2\n"
          ]
        },
        {
          "output_type": "display_data",
          "data": {
            "text/plain": [
              "<Figure size 432x288 with 1 Axes>"
            ],
            "image/png": "[encoded data removed]"
          },
          "metadata": {
            "needs_background": "light"
          }
        }
      ]
    },
    {
      "cell_type": "code",
      "source": [
        "# Test my own digits\n",
        "file_path = '/content/Test_num5.png'\n",
        "\n",
        "# Read image from file, convert to grayscale and display\n",
        "user_img = load_img(file_path, target_size=target_shape, color_mode= \"grayscale\")\n",
        "plt.imshow(user_img, cmap='gray')\n",
        "\n",
        "# Image to array\n",
        "user_img = img_to_array(user_img).astype('float32')\n",
        "user_img = user_img/255   # Normalize\n",
        "\n",
        "# Make prediction\n",
        "pred_value = np.argmax(model.predict(user_img.reshape(1,-1), verbose=False))\n",
        "print(\"Predicted number:\", pred_value)"
      ],
      "metadata": {
        "colab": {
          "base_uri": "https://localhost:8080/",
          "height": 282
        },
        "id": "aJHhb8ld3wfT",
        "outputId": "bca651ba-4ae4-4eb0-db3a-8a9fe94f1863"
      },
      "execution_count": 30,
      "outputs": [
        {
          "output_type": "stream",
          "name": "stdout",
          "text": [
            "Predicted number: 5\n"
          ]
        },
        {
          "output_type": "display_data",
          "data": {
            "text/plain": [
              "<Figure size 432x288 with 1 Axes>"
            ],
            "image/png": "[encoded data removed]"
          },
          "metadata": {
            "needs_background": "light"
          }
        }
      ]
    },
    {
      "cell_type": "code",
      "source": [
        "# Test my own digits\n",
        "file_path = '/content/Test_num6.png'\n",
        "\n",
        "# Read image from file, convert to grayscale and display\n",
        "user_img = load_img(file_path, target_size=target_shape, color_mode= \"grayscale\")\n",
        "plt.imshow(user_img, cmap='gray')\n",
        "\n",
        "# Image to array\n",
        "user_img = img_to_array(user_img).astype('float32')\n",
        "user_img = user_img/255   # Normalize\n",
        "\n",
        "# Make prediction\n",
        "pred_value = np.argmax(model.predict(user_img.reshape(1,-1), verbose=False))\n",
        "print(\"Predicted number:\", pred_value)"
      ],
      "metadata": {
        "colab": {
          "base_uri": "https://localhost:8080/",
          "height": 282
        },
        "id": "BeEQObmy4sWz",
        "outputId": "22fcf1aa-3992-4258-f6ff-c5a96f17076d"
      },
      "execution_count": 36,
      "outputs": [
        {
          "output_type": "stream",
          "name": "stdout",
          "text": [
            "Predicted number: 6\n"
          ]
        },
        {
          "output_type": "display_data",
          "data": {
            "text/plain": [
              "<Figure size 432x288 with 1 Axes>"
            ],
            "image/png": "[encoded data removed]"
          },
          "metadata": {
            "needs_background": "light"
          }
        }
      ]
    }
  ]
}